{
  "nbformat": 4,
  "nbformat_minor": 0,
  "metadata": {
    "colab": {
      "name": "CampaignEmails.ipynb",
      "provenance": [],
      "collapsed_sections": [],
      "mount_file_id": "1XnacB4PnHbQvPe83LFjKMpmu1Sp-gVEd",
      "authorship_tag": "ABX9TyMm+tbd+cHTkqRtOVORYSs6",
      "include_colab_link": true
    },
    "kernelspec": {
      "name": "python3",
      "display_name": "Python 3"
    },
    "language_info": {
      "name": "python"
    }
  },
  "cells": [
    {
      "cell_type": "markdown",
      "metadata": {
        "id": "view-in-github",
        "colab_type": "text"
      },
      "source": [
        "<a href=\"https://colab.research.google.com/github/ahmedshahrukhali/sedna-exercise/blob/main/CampaignEmails.ipynb\" target=\"_parent\"><img src=\"https://colab.research.google.com/assets/colab-badge.svg\" alt=\"Open In Colab\"/></a>"
      ]
    },
    {
      "cell_type": "markdown",
      "metadata": {
        "id": "g8o6fXJWevNc"
      },
      "source": [
        "# SEDNA Exercise \n",
        "\n",
        "We are working with a dataset of Emails from Canadian Federal Political Parties.\n",
        "This dataset can be accessed in multiple formats. For this exercise we will use the XML format as it is a more general purpose format and has strong support built in to Python.\n",
        "\n",
        "This exercise will demonstrate some of the various methods possible for extracting useful information from the data, as well as protection of private and sensitive data.\n",
        "\n",
        "While there are more emails available in this data, to improve understandability of both the processes and the information, we are working with the Donation Subscription half of the set.\n",
        "\n",
        "A data frame with each of the mentions, (&date / sending-party)\n",
        "Weekly aggregate of the data / plot time frequency of mentions (split by party.)\n",
        "Etc. (i.e. if you want to do something else with these emails)\n"
      ]
    },
    {
      "cell_type": "code",
      "metadata": {
        "id": "hEJ7uQWEvJNS"
      },
      "source": [
        "!python -m spacy download en_core_web_sm\n",
        "import pandas as pd\n",
        "import numpy as np\n",
        "import spacy\n",
        "from spacy import displacy\n",
        "import datetime"
      ],
      "execution_count": null,
      "outputs": []
    },
    {
      "cell_type": "markdown",
      "metadata": {
        "id": "7tXFyV5aw9-6"
      },
      "source": [
        "Above are the libraries used to perform some of the tasks in this exercise.\n",
        "- Pandas is a common library used for data analysis and manipulation. It is particularly useful for it's efficient data structures.\n",
        "- SpaCy is a power Natural Language Processing (NLP) library used for various textual understanding processes. For this exercise's purpose the Named Entity Recognition will allow advanced functions to be applied to the data. "
      ]
    },
    {
      "cell_type": "code",
      "metadata": {
        "id": "x_nJqsnXwdQV"
      },
      "source": [
        "\n",
        "tree1 = ET.parse('PE-Conservatives-Donation-Subscription.xml') \n",
        "root1 = tree1.getroot()\n",
        "\n",
        "tree2 = ET.parse('PE-GreenParty-Donation-Subscription.xml') \n",
        "root2 = tree2.getroot()\n",
        "\n",
        "tree3 = ET.parse('PE-Liberal-Donation-Subscription.xml') \n",
        "root3 = tree3.getroot()\n",
        "\n",
        "tree4 = ET.parse('PE-NDP-Donation-Subscription.xml') \n",
        "root4 = tree4.getroot()\n"
      ],
      "execution_count": null,
      "outputs": []
    },
    {
      "cell_type": "markdown",
      "metadata": {
        "id": "MjO9IuiUeKPK"
      },
      "source": [
        "Here the call to the Python module ElementTree (ET) enables parsing of the XML information. This will enable access to the email body text, as well as all other information present in the dataset. "
      ]
    },
    {
      "cell_type": "code",
      "metadata": {
        "colab": {
          "base_uri": "https://localhost:8080/",
          "height": 612
        },
        "id": "SvqU9V3yvIO3",
        "outputId": "8b99ffe7-937a-4a5e-f0ed-6fde784e0d57"
      },
      "source": [
        "#text\n",
        "sampletext = \"http://www.conservative.ca Speech from Prime Minister Stephen Harper: My fellow Canadians, for the second time this week there has been a brutal and violent attack on our soil. Today, our thoughts and prayers are with the family and friends of Corporal Nathan Cirillo of the Argyll and Sutherland Highlanders. Corporal Cirillo was killed today - murdered in cold blood - as he provided a ceremonial honour guard at Canada’s national war memorial. That sacred place that pays tribute to those who gave their lives so that we can live in a free, democratic and safe society. Likewise, our thoughts and prayers remain also with the family and friends of Warrant Officer Patrice Vincent, who was killed earlier this week by an ISIL-inspired terrorist. Tonight we also pray for the speedy recovery of the others injured in these despicable attacks. Fellow Canadians, we have also been reminded today of the compassionate and courageous nature of so many Canadians, like those private citizens and first responders who came to provide aid to Corporal Cirillo as he fought for his life. And, of course, the members of our security forces in the RCMP, the city of Ottawa police, and in parliament who came quickly, and at great risk to themselves, to assist those of us who were close to the attack. Fellow Canadians, in the days to come, we will learn more about the terrorist and any accomplices he may have had. But this week’s events are a grim reminder that Canada is not immune to the types of terrorist attacks we have seen elsewhere around the world. We are also reminded that attacks on our security personnel and our institutions of governance are, by their very nature, attacks on our country. On our values, on our society, on us, Canadians, as a free and democratic people who embrace human dignity for all. But let there be no misunderstanding, we will not be intimidated. Canada will never be intimidated. In fact, this will lead us to strengthen our resolve and redouble our efforts and those of our national security agencies, to take all necessary steps to identify and counter threats, and keep Canada safe here at home. Just as it will lead us to strengthen our resolve and redouble our efforts to work with our allies around the world and fight against the terrorist organizations who brutalize those in other countries with the hope of bringing their savagery to our shores. They will have no safe haven. While today has been, without question, a difficult day, I have every confidence that Canadians will pull together with the kind of firm solidarity that has seen our country through many challenges. Together, we will remain vigilant against those, at home or abroad, who wish to harm us. For now, Laureen, Ben, Rachel, and I join all Canadians in praying for those touched by today’s attack. May God bless them, and keep our land glorious and free. This email was sent to: conservativeemail@mikesmit.com We believe email is an important way to stay in touch with Canadians. If you no longer wish to receive e-mail updates from us, click here (http://conservative.us5 .list-manage1.com/unsubscribe?u=5e9ee09d91aa4d38e08f9a7c3&id=4cbef4752f&e=625dba58d8& c=d8e9a53917) to unsubscribe. Email communications from: Conservative Party of Canada 1204-130 Albert St Ottawa, ON K1P 5G4 Canada \"\n",
        "\n",
        "#from dataframe\n",
        "#sample2=  df.text[1]\n",
        "\n",
        "#from xml\n",
        "sample3 = root1[10][5].text\n",
        "\n",
        "\n",
        "#######################################################\n",
        "#CHANGE THE DEFINITION OF SAMPLE TO SEE MORE EXAMPLES\n",
        "sample = sampletext\n",
        "#######################################################\n",
        "\n",
        "nlp = spacy.load(\"en_core_web_sm\")\n",
        "doc = nlp(sample)\n",
        "displacy.render(doc, style=\"ent\", jupyter=True)\n"
      ],
      "execution_count": null,
      "outputs": [
        {
          "output_type": "display_data",
          "data": {
            "text/html": [
              "<span class=\"tex2jax_ignore\"><div class=\"entities\" style=\"line-height: 2.5; direction: ltr\">http://www.conservative.ca Speech from Prime Minister \n",
              "<mark class=\"entity\" style=\"background: #aa9cfc; padding: 0.45em 0.6em; margin: 0 0.25em; line-height: 1; border-radius: 0.35em;\">\n",
              "    Stephen Harper\n",
              "    <span style=\"font-size: 0.8em; font-weight: bold; line-height: 1; border-radius: 0.35em; text-transform: uppercase; vertical-align: middle; margin-left: 0.5rem\">PERSON</span>\n",
              "</mark>\n",
              ": My fellow \n",
              "<mark class=\"entity\" style=\"background: #c887fb; padding: 0.45em 0.6em; margin: 0 0.25em; line-height: 1; border-radius: 0.35em;\">\n",
              "    Canadians\n",
              "    <span style=\"font-size: 0.8em; font-weight: bold; line-height: 1; border-radius: 0.35em; text-transform: uppercase; vertical-align: middle; margin-left: 0.5rem\">NORP</span>\n",
              "</mark>\n",
              ", for the \n",
              "<mark class=\"entity\" style=\"background: #e4e7d2; padding: 0.45em 0.6em; margin: 0 0.25em; line-height: 1; border-radius: 0.35em;\">\n",
              "    second\n",
              "    <span style=\"font-size: 0.8em; font-weight: bold; line-height: 1; border-radius: 0.35em; text-transform: uppercase; vertical-align: middle; margin-left: 0.5rem\">ORDINAL</span>\n",
              "</mark>\n",
              " time \n",
              "<mark class=\"entity\" style=\"background: #bfe1d9; padding: 0.45em 0.6em; margin: 0 0.25em; line-height: 1; border-radius: 0.35em;\">\n",
              "    this week\n",
              "    <span style=\"font-size: 0.8em; font-weight: bold; line-height: 1; border-radius: 0.35em; text-transform: uppercase; vertical-align: middle; margin-left: 0.5rem\">DATE</span>\n",
              "</mark>\n",
              " there has been a brutal and violent attack on our soil. \n",
              "<mark class=\"entity\" style=\"background: #bfe1d9; padding: 0.45em 0.6em; margin: 0 0.25em; line-height: 1; border-radius: 0.35em;\">\n",
              "    Today\n",
              "    <span style=\"font-size: 0.8em; font-weight: bold; line-height: 1; border-radius: 0.35em; text-transform: uppercase; vertical-align: middle; margin-left: 0.5rem\">DATE</span>\n",
              "</mark>\n",
              ", our thoughts and prayers are with the family and friends of Corporal \n",
              "<mark class=\"entity\" style=\"background: #aa9cfc; padding: 0.45em 0.6em; margin: 0 0.25em; line-height: 1; border-radius: 0.35em;\">\n",
              "    Nathan Cirillo\n",
              "    <span style=\"font-size: 0.8em; font-weight: bold; line-height: 1; border-radius: 0.35em; text-transform: uppercase; vertical-align: middle; margin-left: 0.5rem\">PERSON</span>\n",
              "</mark>\n",
              " of the \n",
              "<mark class=\"entity\" style=\"background: #7aecec; padding: 0.45em 0.6em; margin: 0 0.25em; line-height: 1; border-radius: 0.35em;\">\n",
              "    Argyll\n",
              "    <span style=\"font-size: 0.8em; font-weight: bold; line-height: 1; border-radius: 0.35em; text-transform: uppercase; vertical-align: middle; margin-left: 0.5rem\">ORG</span>\n",
              "</mark>\n",
              " and \n",
              "<mark class=\"entity\" style=\"background: #aa9cfc; padding: 0.45em 0.6em; margin: 0 0.25em; line-height: 1; border-radius: 0.35em;\">\n",
              "    Sutherland Highlanders\n",
              "    <span style=\"font-size: 0.8em; font-weight: bold; line-height: 1; border-radius: 0.35em; text-transform: uppercase; vertical-align: middle; margin-left: 0.5rem\">PERSON</span>\n",
              "</mark>\n",
              ". Corporal \n",
              "<mark class=\"entity\" style=\"background: #aa9cfc; padding: 0.45em 0.6em; margin: 0 0.25em; line-height: 1; border-radius: 0.35em;\">\n",
              "    Cirillo\n",
              "    <span style=\"font-size: 0.8em; font-weight: bold; line-height: 1; border-radius: 0.35em; text-transform: uppercase; vertical-align: middle; margin-left: 0.5rem\">PERSON</span>\n",
              "</mark>\n",
              " was killed \n",
              "<mark class=\"entity\" style=\"background: #bfe1d9; padding: 0.45em 0.6em; margin: 0 0.25em; line-height: 1; border-radius: 0.35em;\">\n",
              "    today\n",
              "    <span style=\"font-size: 0.8em; font-weight: bold; line-height: 1; border-radius: 0.35em; text-transform: uppercase; vertical-align: middle; margin-left: 0.5rem\">DATE</span>\n",
              "</mark>\n",
              " - murdered in cold blood - as he provided a ceremonial honour guard at \n",
              "<mark class=\"entity\" style=\"background: #feca74; padding: 0.45em 0.6em; margin: 0 0.25em; line-height: 1; border-radius: 0.35em;\">\n",
              "    Canada\n",
              "    <span style=\"font-size: 0.8em; font-weight: bold; line-height: 1; border-radius: 0.35em; text-transform: uppercase; vertical-align: middle; margin-left: 0.5rem\">GPE</span>\n",
              "</mark>\n",
              "’s national war memorial. That sacred place that pays tribute to those who gave their lives so that we can live in a free, democratic and safe society. Likewise, our thoughts and prayers remain also with the family and friends of Warrant Officer \n",
              "<mark class=\"entity\" style=\"background: #aa9cfc; padding: 0.45em 0.6em; margin: 0 0.25em; line-height: 1; border-radius: 0.35em;\">\n",
              "    Patrice Vincent\n",
              "    <span style=\"font-size: 0.8em; font-weight: bold; line-height: 1; border-radius: 0.35em; text-transform: uppercase; vertical-align: middle; margin-left: 0.5rem\">PERSON</span>\n",
              "</mark>\n",
              ", who was killed \n",
              "<mark class=\"entity\" style=\"background: #bfe1d9; padding: 0.45em 0.6em; margin: 0 0.25em; line-height: 1; border-radius: 0.35em;\">\n",
              "    earlier this week\n",
              "    <span style=\"font-size: 0.8em; font-weight: bold; line-height: 1; border-radius: 0.35em; text-transform: uppercase; vertical-align: middle; margin-left: 0.5rem\">DATE</span>\n",
              "</mark>\n",
              " by an \n",
              "<mark class=\"entity\" style=\"background: #7aecec; padding: 0.45em 0.6em; margin: 0 0.25em; line-height: 1; border-radius: 0.35em;\">\n",
              "    ISIL\n",
              "    <span style=\"font-size: 0.8em; font-weight: bold; line-height: 1; border-radius: 0.35em; text-transform: uppercase; vertical-align: middle; margin-left: 0.5rem\">ORG</span>\n",
              "</mark>\n",
              "-inspired terrorist. \n",
              "<mark class=\"entity\" style=\"background: #bfe1d9; padding: 0.45em 0.6em; margin: 0 0.25em; line-height: 1; border-radius: 0.35em;\">\n",
              "    Tonight\n",
              "    <span style=\"font-size: 0.8em; font-weight: bold; line-height: 1; border-radius: 0.35em; text-transform: uppercase; vertical-align: middle; margin-left: 0.5rem\">TIME</span>\n",
              "</mark>\n",
              " we also pray for the speedy recovery of the others injured in these despicable attacks. Fellow \n",
              "<mark class=\"entity\" style=\"background: #c887fb; padding: 0.45em 0.6em; margin: 0 0.25em; line-height: 1; border-radius: 0.35em;\">\n",
              "    Canadians\n",
              "    <span style=\"font-size: 0.8em; font-weight: bold; line-height: 1; border-radius: 0.35em; text-transform: uppercase; vertical-align: middle; margin-left: 0.5rem\">NORP</span>\n",
              "</mark>\n",
              ", we have also been reminded today of the compassionate and courageous nature of so many \n",
              "<mark class=\"entity\" style=\"background: #c887fb; padding: 0.45em 0.6em; margin: 0 0.25em; line-height: 1; border-radius: 0.35em;\">\n",
              "    Canadians\n",
              "    <span style=\"font-size: 0.8em; font-weight: bold; line-height: 1; border-radius: 0.35em; text-transform: uppercase; vertical-align: middle; margin-left: 0.5rem\">NORP</span>\n",
              "</mark>\n",
              ", like those private citizens and \n",
              "<mark class=\"entity\" style=\"background: #e4e7d2; padding: 0.45em 0.6em; margin: 0 0.25em; line-height: 1; border-radius: 0.35em;\">\n",
              "    first\n",
              "    <span style=\"font-size: 0.8em; font-weight: bold; line-height: 1; border-radius: 0.35em; text-transform: uppercase; vertical-align: middle; margin-left: 0.5rem\">ORDINAL</span>\n",
              "</mark>\n",
              " responders who came to provide aid to Corporal \n",
              "<mark class=\"entity\" style=\"background: #aa9cfc; padding: 0.45em 0.6em; margin: 0 0.25em; line-height: 1; border-radius: 0.35em;\">\n",
              "    Cirillo\n",
              "    <span style=\"font-size: 0.8em; font-weight: bold; line-height: 1; border-radius: 0.35em; text-transform: uppercase; vertical-align: middle; margin-left: 0.5rem\">PERSON</span>\n",
              "</mark>\n",
              " as he fought for his life. And, of course, the members of our security forces in the \n",
              "<mark class=\"entity\" style=\"background: #f0d0ff; padding: 0.45em 0.6em; margin: 0 0.25em; line-height: 1; border-radius: 0.35em;\">\n",
              "    RCMP\n",
              "    <span style=\"font-size: 0.8em; font-weight: bold; line-height: 1; border-radius: 0.35em; text-transform: uppercase; vertical-align: middle; margin-left: 0.5rem\">WORK_OF_ART</span>\n",
              "</mark>\n",
              ", the city of \n",
              "<mark class=\"entity\" style=\"background: #feca74; padding: 0.45em 0.6em; margin: 0 0.25em; line-height: 1; border-radius: 0.35em;\">\n",
              "    Ottawa\n",
              "    <span style=\"font-size: 0.8em; font-weight: bold; line-height: 1; border-radius: 0.35em; text-transform: uppercase; vertical-align: middle; margin-left: 0.5rem\">GPE</span>\n",
              "</mark>\n",
              " police, and in parliament who came quickly, and at great risk to themselves, to assist those of us who were close to the attack. Fellow \n",
              "<mark class=\"entity\" style=\"background: #c887fb; padding: 0.45em 0.6em; margin: 0 0.25em; line-height: 1; border-radius: 0.35em;\">\n",
              "    Canadians\n",
              "    <span style=\"font-size: 0.8em; font-weight: bold; line-height: 1; border-radius: 0.35em; text-transform: uppercase; vertical-align: middle; margin-left: 0.5rem\">NORP</span>\n",
              "</mark>\n",
              ", in \n",
              "<mark class=\"entity\" style=\"background: #bfe1d9; padding: 0.45em 0.6em; margin: 0 0.25em; line-height: 1; border-radius: 0.35em;\">\n",
              "    the days\n",
              "    <span style=\"font-size: 0.8em; font-weight: bold; line-height: 1; border-radius: 0.35em; text-transform: uppercase; vertical-align: middle; margin-left: 0.5rem\">DATE</span>\n",
              "</mark>\n",
              " to come, we will learn more about the terrorist and any accomplices he may have had. But \n",
              "<mark class=\"entity\" style=\"background: #bfe1d9; padding: 0.45em 0.6em; margin: 0 0.25em; line-height: 1; border-radius: 0.35em;\">\n",
              "    this week\n",
              "    <span style=\"font-size: 0.8em; font-weight: bold; line-height: 1; border-radius: 0.35em; text-transform: uppercase; vertical-align: middle; margin-left: 0.5rem\">DATE</span>\n",
              "</mark>\n",
              "’s events are a grim reminder that \n",
              "<mark class=\"entity\" style=\"background: #feca74; padding: 0.45em 0.6em; margin: 0 0.25em; line-height: 1; border-radius: 0.35em;\">\n",
              "    Canada\n",
              "    <span style=\"font-size: 0.8em; font-weight: bold; line-height: 1; border-radius: 0.35em; text-transform: uppercase; vertical-align: middle; margin-left: 0.5rem\">GPE</span>\n",
              "</mark>\n",
              " is not immune to the types of terrorist attacks we have seen elsewhere around the world. We are also reminded that attacks on our security personnel and our institutions of governance are, by their very nature, attacks on our country. On our values, on our society, on us, \n",
              "<mark class=\"entity\" style=\"background: #c887fb; padding: 0.45em 0.6em; margin: 0 0.25em; line-height: 1; border-radius: 0.35em;\">\n",
              "    Canadians\n",
              "    <span style=\"font-size: 0.8em; font-weight: bold; line-height: 1; border-radius: 0.35em; text-transform: uppercase; vertical-align: middle; margin-left: 0.5rem\">NORP</span>\n",
              "</mark>\n",
              ", as a free and democratic people who embrace human dignity for all. But let there be no misunderstanding, we will not be intimidated. \n",
              "<mark class=\"entity\" style=\"background: #feca74; padding: 0.45em 0.6em; margin: 0 0.25em; line-height: 1; border-radius: 0.35em;\">\n",
              "    Canada\n",
              "    <span style=\"font-size: 0.8em; font-weight: bold; line-height: 1; border-radius: 0.35em; text-transform: uppercase; vertical-align: middle; margin-left: 0.5rem\">GPE</span>\n",
              "</mark>\n",
              " will never be intimidated. In fact, this will lead us to strengthen our resolve and redouble our efforts and those of our national security agencies, to take all necessary steps to identify and counter threats, and keep \n",
              "<mark class=\"entity\" style=\"background: #feca74; padding: 0.45em 0.6em; margin: 0 0.25em; line-height: 1; border-radius: 0.35em;\">\n",
              "    Canada\n",
              "    <span style=\"font-size: 0.8em; font-weight: bold; line-height: 1; border-radius: 0.35em; text-transform: uppercase; vertical-align: middle; margin-left: 0.5rem\">GPE</span>\n",
              "</mark>\n",
              " safe here at home. Just as it will lead us to strengthen our resolve and redouble our efforts to work with our allies around the world and fight against the terrorist organizations who brutalize those in other countries with the hope of bringing their savagery to our shores. They will have no safe haven. While \n",
              "<mark class=\"entity\" style=\"background: #bfe1d9; padding: 0.45em 0.6em; margin: 0 0.25em; line-height: 1; border-radius: 0.35em;\">\n",
              "    today\n",
              "    <span style=\"font-size: 0.8em; font-weight: bold; line-height: 1; border-radius: 0.35em; text-transform: uppercase; vertical-align: middle; margin-left: 0.5rem\">DATE</span>\n",
              "</mark>\n",
              " has been, without question, \n",
              "<mark class=\"entity\" style=\"background: #bfe1d9; padding: 0.45em 0.6em; margin: 0 0.25em; line-height: 1; border-radius: 0.35em;\">\n",
              "    a difficult day\n",
              "    <span style=\"font-size: 0.8em; font-weight: bold; line-height: 1; border-radius: 0.35em; text-transform: uppercase; vertical-align: middle; margin-left: 0.5rem\">DATE</span>\n",
              "</mark>\n",
              ", I have every confidence that \n",
              "<mark class=\"entity\" style=\"background: #c887fb; padding: 0.45em 0.6em; margin: 0 0.25em; line-height: 1; border-radius: 0.35em;\">\n",
              "    Canadians\n",
              "    <span style=\"font-size: 0.8em; font-weight: bold; line-height: 1; border-radius: 0.35em; text-transform: uppercase; vertical-align: middle; margin-left: 0.5rem\">NORP</span>\n",
              "</mark>\n",
              " will pull together with the kind of firm solidarity that has seen our country through many challenges. Together, we will remain vigilant against those, at home or abroad, who wish to harm us. For now, \n",
              "<mark class=\"entity\" style=\"background: #aa9cfc; padding: 0.45em 0.6em; margin: 0 0.25em; line-height: 1; border-radius: 0.35em;\">\n",
              "    Laureen\n",
              "    <span style=\"font-size: 0.8em; font-weight: bold; line-height: 1; border-radius: 0.35em; text-transform: uppercase; vertical-align: middle; margin-left: 0.5rem\">PERSON</span>\n",
              "</mark>\n",
              ", \n",
              "<mark class=\"entity\" style=\"background: #aa9cfc; padding: 0.45em 0.6em; margin: 0 0.25em; line-height: 1; border-radius: 0.35em;\">\n",
              "    Ben\n",
              "    <span style=\"font-size: 0.8em; font-weight: bold; line-height: 1; border-radius: 0.35em; text-transform: uppercase; vertical-align: middle; margin-left: 0.5rem\">PERSON</span>\n",
              "</mark>\n",
              ", \n",
              "<mark class=\"entity\" style=\"background: #aa9cfc; padding: 0.45em 0.6em; margin: 0 0.25em; line-height: 1; border-radius: 0.35em;\">\n",
              "    Rachel\n",
              "    <span style=\"font-size: 0.8em; font-weight: bold; line-height: 1; border-radius: 0.35em; text-transform: uppercase; vertical-align: middle; margin-left: 0.5rem\">PERSON</span>\n",
              "</mark>\n",
              ", and I join all \n",
              "<mark class=\"entity\" style=\"background: #c887fb; padding: 0.45em 0.6em; margin: 0 0.25em; line-height: 1; border-radius: 0.35em;\">\n",
              "    Canadians\n",
              "    <span style=\"font-size: 0.8em; font-weight: bold; line-height: 1; border-radius: 0.35em; text-transform: uppercase; vertical-align: middle; margin-left: 0.5rem\">NORP</span>\n",
              "</mark>\n",
              " in praying for those touched by \n",
              "<mark class=\"entity\" style=\"background: #bfe1d9; padding: 0.45em 0.6em; margin: 0 0.25em; line-height: 1; border-radius: 0.35em;\">\n",
              "    today\n",
              "    <span style=\"font-size: 0.8em; font-weight: bold; line-height: 1; border-radius: 0.35em; text-transform: uppercase; vertical-align: middle; margin-left: 0.5rem\">DATE</span>\n",
              "</mark>\n",
              "’s attack. May \n",
              "<mark class=\"entity\" style=\"background: #aa9cfc; padding: 0.45em 0.6em; margin: 0 0.25em; line-height: 1; border-radius: 0.35em;\">\n",
              "    God\n",
              "    <span style=\"font-size: 0.8em; font-weight: bold; line-height: 1; border-radius: 0.35em; text-transform: uppercase; vertical-align: middle; margin-left: 0.5rem\">PERSON</span>\n",
              "</mark>\n",
              " bless them, and keep our land glorious and free. This email was sent to: conservativeemail@mikesmit.com We believe email is an important way to stay in touch with \n",
              "<mark class=\"entity\" style=\"background: #c887fb; padding: 0.45em 0.6em; margin: 0 0.25em; line-height: 1; border-radius: 0.35em;\">\n",
              "    Canadians\n",
              "    <span style=\"font-size: 0.8em; font-weight: bold; line-height: 1; border-radius: 0.35em; text-transform: uppercase; vertical-align: middle; margin-left: 0.5rem\">NORP</span>\n",
              "</mark>\n",
              ". If you no longer wish to receive e-mail updates from us, click here (http://conservative.us5 .list-\n",
              "<mark class=\"entity\" style=\"background: #7aecec; padding: 0.45em 0.6em; margin: 0 0.25em; line-height: 1; border-radius: 0.35em;\">\n",
              "    manage1.com/unsubscribe?u=5e9ee09d91aa4d38e08f9a7c3&amp;id=4cbef4752f&amp;e=625dba58d8&amp; c\n",
              "    <span style=\"font-size: 0.8em; font-weight: bold; line-height: 1; border-radius: 0.35em; text-transform: uppercase; vertical-align: middle; margin-left: 0.5rem\">ORG</span>\n",
              "</mark>\n",
              "=\n",
              "<mark class=\"entity\" style=\"background: #e4e7d2; padding: 0.45em 0.6em; margin: 0 0.25em; line-height: 1; border-radius: 0.35em;\">\n",
              "    d8e9a53917\n",
              "    <span style=\"font-size: 0.8em; font-weight: bold; line-height: 1; border-radius: 0.35em; text-transform: uppercase; vertical-align: middle; margin-left: 0.5rem\">CARDINAL</span>\n",
              "</mark>\n",
              ") to unsubscribe. Email communications from: \n",
              "<mark class=\"entity\" style=\"background: #7aecec; padding: 0.45em 0.6em; margin: 0 0.25em; line-height: 1; border-radius: 0.35em;\">\n",
              "    Conservative Party of Canada\n",
              "    <span style=\"font-size: 0.8em; font-weight: bold; line-height: 1; border-radius: 0.35em; text-transform: uppercase; vertical-align: middle; margin-left: 0.5rem\">ORG</span>\n",
              "</mark>\n",
              " 1204-130 \n",
              "<mark class=\"entity\" style=\"background: #aa9cfc; padding: 0.45em 0.6em; margin: 0 0.25em; line-height: 1; border-radius: 0.35em;\">\n",
              "    Albert St Ottawa\n",
              "    <span style=\"font-size: 0.8em; font-weight: bold; line-height: 1; border-radius: 0.35em; text-transform: uppercase; vertical-align: middle; margin-left: 0.5rem\">PERSON</span>\n",
              "</mark>\n",
              ", ON \n",
              "<mark class=\"entity\" style=\"background: #7aecec; padding: 0.45em 0.6em; margin: 0 0.25em; line-height: 1; border-radius: 0.35em;\">\n",
              "    K1P 5G4 Canada\n",
              "    <span style=\"font-size: 0.8em; font-weight: bold; line-height: 1; border-radius: 0.35em; text-transform: uppercase; vertical-align: middle; margin-left: 0.5rem\">ORG</span>\n",
              "</mark>\n",
              " </div></span>"
            ],
            "text/plain": [
              "<IPython.core.display.HTML object>"
            ]
          },
          "metadata": {
            "tags": []
          }
        }
      ]
    },
    {
      "cell_type": "markdown",
      "metadata": {
        "id": "Bx5ubqNNxzq9"
      },
      "source": [
        "Three different methods to pass the information to NLP module.\n",
        "- Direct, as a string\n",
        "- From our DataFrame (which will be created later on so it might help understanding to come back and uncomment the line to see it run)\n",
        "- XML, accessing the element of the XML containing the email body is also possible\n",
        "\n",
        "# SpaCy\n",
        "As mentioned, SpaCy is an advanced NLP library. Using it's smallest set of tags, we are able to find and label all the nouns in this dataset. SpaCy is also available in many other languages. The output of the above cell demonstrates SpaCy's ability to tag all the Named Entities, distinguishing people from places, organizations, and more."
      ]
    },
    {
      "cell_type": "markdown",
      "metadata": {
        "id": "zMGqOzOi42Qt"
      },
      "source": [
        "# Function - Redacting Names *(Requirement 1)*"
      ]
    },
    {
      "cell_type": "code",
      "metadata": {
        "id": "HJMvvZT_2evA"
      },
      "source": [
        "def replace_person_names(token):\n",
        "    if token.ent_iob != 0 and token.ent_type_ == 'PERSON':\n",
        "        return '[REDACTED] '\n",
        "    return token.string\n",
        "\n",
        "def redact_names(nlp_doc):\n",
        "    for ent in nlp_doc.ents:\n",
        "        ent.merge()\n",
        "    tokens = map(replace_person_names, nlp_doc)\n",
        "    return ''.join(tokens)"
      ],
      "execution_count": null,
      "outputs": []
    },
    {
      "cell_type": "markdown",
      "metadata": {
        "id": "qnlCh_TSzcEv"
      },
      "source": [
        "The two functions defined above are called below in an example. These functions together take account of all the Named Entities found using SpaCy, and selecting only those tagged as 'Person' hide the name.\n",
        "\n",
        "This use can be extended to protect various other Entites, such as Email Addresses, Countries, Organizations, and much more."
      ]
    },
    {
      "cell_type": "code",
      "metadata": {
        "colab": {
          "base_uri": "https://localhost:8080/",
          "height": 120
        },
        "id": "jvFaGH8ed0Qe",
        "outputId": "3f1b0426-8ba9-432f-8720-be78bb35e7cc"
      },
      "source": [
        "survey_doc = nlp(sample)\n",
        "redact_names(survey_doc)"
      ],
      "execution_count": null,
      "outputs": [
        {
          "output_type": "execute_result",
          "data": {
            "application/vnd.google.colaboratory.intrinsic+json": {
              "type": "string"
            },
            "text/plain": [
              "'http://www.conservative.ca Speech from Prime Minister [REDACTED] : My fellow Canadians, for the second time this week there has been a brutal and violent attack on our soil. Today, our thoughts and prayers are with the family and friends of Corporal [REDACTED] of the Argyll and [REDACTED] . Corporal [REDACTED] was killed today - murdered in cold blood - as he provided a ceremonial honour guard at Canada’s national war memorial. That sacred place that pays tribute to those who gave their lives so that we can live in a free, democratic and safe society. Likewise, our thoughts and prayers remain also with the family and friends of Warrant Officer [REDACTED] , who was killed earlier this week by an ISIL-inspired terrorist. Tonight we also pray for the speedy recovery of the others injured in these despicable attacks. Fellow Canadians, we have also been reminded today of the compassionate and courageous nature of so many Canadians, like those private citizens and first responders who came to provide aid to Corporal [REDACTED] as he fought for his life. And, of course, the members of our security forces in the RCMP, the city of Ottawa police, and in parliament who came quickly, and at great risk to themselves, to assist those of us who were close to the attack. Fellow Canadians, in the days to come, we will learn more about the terrorist and any accomplices he may have had. But this week’s events are a grim reminder that Canada is not immune to the types of terrorist attacks we have seen elsewhere around the world. We are also reminded that attacks on our security personnel and our institutions of governance are, by their very nature, attacks on our country. On our values, on our society, on us, Canadians, as a free and democratic people who embrace human dignity for all. But let there be no misunderstanding, we will not be intimidated. Canada will never be intimidated. In fact, this will lead us to strengthen our resolve and redouble our efforts and those of our national security agencies, to take all necessary steps to identify and counter threats, and keep Canada safe here at home. Just as it will lead us to strengthen our resolve and redouble our efforts to work with our allies around the world and fight against the terrorist organizations who brutalize those in other countries with the hope of bringing their savagery to our shores. They will have no safe haven. While today has been, without question, a difficult day, I have every confidence that Canadians will pull together with the kind of firm solidarity that has seen our country through many challenges. Together, we will remain vigilant against those, at home or abroad, who wish to harm us. For now, [REDACTED] , [REDACTED] , [REDACTED] , and I join all Canadians in praying for those touched by today’s attack. May [REDACTED] bless them, and keep our land glorious and free. This email was sent to: conservativeemail@mikesmit.com We believe email is an important way to stay in touch with Canadians. If you no longer wish to receive e-mail updates from us, click here (http://conservative.us5 .list-manage1.com/unsubscribe?u=5e9ee09d91aa4d38e08f9a7c3&id=4cbef4752f&e=625dba58d8& c=d8e9a53917) to unsubscribe. Email communications from: Conservative Party of Canada 1204-130 [REDACTED] , ON K1P 5G4 Canada '"
            ]
          },
          "metadata": {
            "tags": []
          },
          "execution_count": 192
        }
      ]
    },
    {
      "cell_type": "markdown",
      "metadata": {
        "id": "gA1UajLJCGgZ"
      },
      "source": [
        "The example above shows the same email shown earlier, with no more names.\n",
        "\n",
        "This demonstration of NER may have a small output here, but the uses and applications of programmatically 'understanding' the WHO in an unstructured text, enables data privacy, as well as providing a method to obtain deep meaning about all parties involved from the data. "
      ]
    },
    {
      "cell_type": "markdown",
      "metadata": {
        "id": "yLhbroPp4xDr"
      },
      "source": [
        "# DataFrame *(Requirement 2)*"
      ]
    },
    {
      "cell_type": "code",
      "metadata": {
        "id": "1gqTcdFO5wlf"
      },
      "source": [
        "\n",
        "def file_parser(root):\n",
        "  \n",
        "\n",
        "  subjects=[]\n",
        "  receivedDate=[]\n",
        "  receivedTime=[]\n",
        "  fromName = []\n",
        "  fromEmail = []\n",
        "  toName = []\n",
        "  toEmail = []\n",
        "  messageId = []\n",
        "  text = []\n",
        "  rawHeader = []\n",
        "  for each in root.findall('./message'):\n",
        "      \n",
        "      subject = each.find('.//subject')\n",
        "      subjects.append(subject.text)\n",
        "\n",
        "      for one in each.findall('.//received'):\n",
        "          rd = one.find('.//date')\n",
        "          receivedDate.append(rd.text)\n",
        "          rt = one.find('.//time')\n",
        "          receivedTime.append(rt.text)\n",
        "\n",
        "      for one in each.findall('.//from'):\n",
        "          fn = one.find('.//name')\n",
        "          fromName.append(fn.text)\n",
        "          fe = one.find('.//email')\n",
        "          fromEmail.append(fe.text)\n",
        "\n",
        "      for one in each.findall('.//to'):\n",
        "          tn = one.find('.//name')\n",
        "          toName.append(tn.text)\n",
        "          te = one.find('.//email')\n",
        "          toEmail.append(te.text)\n",
        "      \n",
        "      mId = each.find('.//messageid')\n",
        "      messageId.append(mId.text)\n",
        "\n",
        "      txt = each.find('.//text')\n",
        "      text.append(txt.text)\n",
        "\n",
        "      rh = each.find('.//rawheader')\n",
        "      rawHeader.append(rh.text)\n",
        "\n",
        "\n",
        "  d={\"subjects\": subjects, \"receivedDate\": receivedDate, \"receivedTime\": receivedTime,\"fromName\": fromName,\"fromEmail\": fromEmail,\"toName\": toName,\"toEmail\": toEmail,\"messageId\": messageId,\"text\": text,\"rawHeader\": rawHeader}\n",
        "\n",
        "  df=pd.DataFrame(d)\n",
        "\n",
        "  df['newdate'] = df['receivedDate'].apply(lambda x: \n",
        "                                    datetime.datetime.strptime(x, '%Y%m%d').strftime('%d/%m/%y'))\n",
        "\n",
        "  df['newdate'] = pd.to_datetime(df['newdate'])\n",
        "\n",
        "  return (df)"
      ],
      "execution_count": null,
      "outputs": []
    },
    {
      "cell_type": "markdown",
      "metadata": {
        "id": "jeyKMEYd2OaB"
      },
      "source": [
        "A DataFrame is a ubiquitous modern data structure which allows high-speed processing of very large datasets. \n",
        "\n",
        "The function reads the 'child' elements of the XML file, which follow an identical structure, and writes the data as it reads to be coalesced to a DataFrame for easier and faster manipulation and understanding. "
      ]
    },
    {
      "cell_type": "code",
      "metadata": {
        "colab": {
          "base_uri": "https://localhost:8080/",
          "height": 479
        },
        "id": "FJUZKfk5g65l",
        "outputId": "a5804946-f2c6-4696-8c11-0087b5f3a80b"
      },
      "source": [
        "df1 = file_parser(root1)\n",
        "df2 = file_parser(root2)\n",
        "df3 = file_parser(root3)\n",
        "df4 = file_parser(root4)\n",
        "\n",
        "df1.head()"
      ],
      "execution_count": null,
      "outputs": [
        {
          "output_type": "execute_result",
          "data": {
            "text/html": [
              "<div>\n",
              "<style scoped>\n",
              "    .dataframe tbody tr th:only-of-type {\n",
              "        vertical-align: middle;\n",
              "    }\n",
              "\n",
              "    .dataframe tbody tr th {\n",
              "        vertical-align: top;\n",
              "    }\n",
              "\n",
              "    .dataframe thead th {\n",
              "        text-align: right;\n",
              "    }\n",
              "</style>\n",
              "<table border=\"1\" class=\"dataframe\">\n",
              "  <thead>\n",
              "    <tr style=\"text-align: right;\">\n",
              "      <th></th>\n",
              "      <th>subjects</th>\n",
              "      <th>receivedDate</th>\n",
              "      <th>receivedTime</th>\n",
              "      <th>fromName</th>\n",
              "      <th>fromEmail</th>\n",
              "      <th>toName</th>\n",
              "      <th>toEmail</th>\n",
              "      <th>messageId</th>\n",
              "      <th>text</th>\n",
              "      <th>rawHeader</th>\n",
              "      <th>newdate</th>\n",
              "    </tr>\n",
              "  </thead>\n",
              "  <tbody>\n",
              "    <tr>\n",
              "      <th>0</th>\n",
              "      <td>Thank you</td>\n",
              "      <td>20140920</td>\n",
              "      <td>17:08:12</td>\n",
              "      <td>Jaime Girard</td>\n",
              "      <td>info@conservative.ca</td>\n",
              "      <td>Mike Smit</td>\n",
              "      <td>conservativeemail@mikesmit.com</td>\n",
              "      <td>631799045aa6807d7bfb07c16c16352c@donate.conser...</td>\n",
              "      <td></td>\n",
              "      <td>\\nX-GM-THRID: 1479800065528151604\\nX-Gmail-Lab...</td>\n",
              "      <td>2014-09-20</td>\n",
              "    </tr>\n",
              "    <tr>\n",
              "      <th>1</th>\n",
              "      <td>Speech from Prime Minister Stephen Harper</td>\n",
              "      <td>20141023</td>\n",
              "      <td>02:58:06</td>\n",
              "      <td>Conservative Party of Canada</td>\n",
              "      <td>info@conservative.ca</td>\n",
              "      <td>conservativeemail@mikesmit.com</td>\n",
              "      <td>conservativeemail@mikesmit.com</td>\n",
              "      <td>5e9ee09d91aa4d38e08f9a7c3625dba58d8.2014102302...</td>\n",
              "      <td>http://www.conservative.ca\\nSpeech from Prime ...</td>\n",
              "      <td>\\nX-GM-THRID: 1482717885784771084\\nX-Gmail-Lab...</td>\n",
              "      <td>2014-10-23</td>\n",
              "    </tr>\n",
              "    <tr>\n",
              "      <th>2</th>\n",
              "      <td>Be one of the 2,000</td>\n",
              "      <td>20141030</td>\n",
              "      <td>00:00:27</td>\n",
              "      <td>Jaime Girard, Conservative Party of Canada</td>\n",
              "      <td>info@conservative.ca</td>\n",
              "      <td>conservativeemail@mikesmit.com</td>\n",
              "      <td>conservativeemail@mikesmit.com</td>\n",
              "      <td>5e9ee09d91aa4d38e08f9a7c3625dba58d8.2014102923...</td>\n",
              "      <td>https://donate.conservative.ca/MembershipDrive...</td>\n",
              "      <td>\\nX-GM-THRID: 1483343331261593976\\nX-Gmail-Lab...</td>\n",
              "      <td>2014-10-30</td>\n",
              "    </tr>\n",
              "    <tr>\n",
              "      <th>3</th>\n",
              "      <td>Big news for families</td>\n",
              "      <td>20141031</td>\n",
              "      <td>01:59:24</td>\n",
              "      <td>Erin O'Toole, MP</td>\n",
              "      <td>info@conservative.ca</td>\n",
              "      <td>conservativeemail@mikesmit.com</td>\n",
              "      <td>conservativeemail@mikesmit.com</td>\n",
              "      <td>5e9ee09d91aa4d38e08f9a7c3625dba58d8.2014103101...</td>\n",
              "      <td>http://www.conservative.ca/NewTaxBreaks/\\nFrie...</td>\n",
              "      <td>\\nX-GM-THRID: 1483442244091812200\\nX-Gmail-Lab...</td>\n",
              "      <td>2014-10-31</td>\n",
              "    </tr>\n",
              "    <tr>\n",
              "      <th>4</th>\n",
              "      <td>Spooky!</td>\n",
              "      <td>20141031</td>\n",
              "      <td>21:54:27</td>\n",
              "      <td>Conservative Party of Canada</td>\n",
              "      <td>info@conservative.ca</td>\n",
              "      <td>conservativeemail@mikesmit.com</td>\n",
              "      <td>conservativeemail@mikesmit.com</td>\n",
              "      <td>5e9ee09d91aa4d38e08f9a7c3625dba58d8.2014103121...</td>\n",
              "      <td>https://donate.conservative.ca?mpi=c4864059e7&amp;...</td>\n",
              "      <td>\\nX-GM-THRID: 1483516104618222806\\nX-Gmail-Lab...</td>\n",
              "      <td>2014-10-31</td>\n",
              "    </tr>\n",
              "  </tbody>\n",
              "</table>\n",
              "</div>"
            ],
            "text/plain": [
              "                                    subjects  ...    newdate\n",
              "0                                  Thank you  ... 2014-09-20\n",
              "1  Speech from Prime Minister Stephen Harper  ... 2014-10-23\n",
              "2                        Be one of the 2,000  ... 2014-10-30\n",
              "3                      Big news for families  ... 2014-10-31\n",
              "4                                    Spooky!  ... 2014-10-31\n",
              "\n",
              "[5 rows x 11 columns]"
            ]
          },
          "metadata": {
            "tags": []
          },
          "execution_count": 194
        }
      ]
    },
    {
      "cell_type": "markdown",
      "metadata": {
        "id": "cGAcJHFv3ckG"
      },
      "source": [
        "Using the function defined above, a DataFrame is created from each of the different datasets. It would be viable to concatenate these to 1 larger DataFrame with a single new column to identify the origins of the records."
      ]
    },
    {
      "cell_type": "markdown",
      "metadata": {
        "id": "2ccSPN4W5Tjb"
      },
      "source": [
        "# Visualization *(Requirement 3)*"
      ]
    },
    {
      "cell_type": "code",
      "metadata": {
        "colab": {
          "base_uri": "https://localhost:8080/",
          "height": 285
        },
        "id": "taX3fn7xn4En",
        "outputId": "237984ce-227f-4e92-a1ea-905d24b148a9"
      },
      "source": [
        "(df1.loc[df1['newdate'].dt.year.between(2015, 2016), 'newdate']\n",
        "         .dt.isocalendar().week\n",
        "         .value_counts()\n",
        "         .sort_index()\n",
        "         .plot(kind=\"line\")\n",
        ")\n",
        "\n",
        "(df2.loc[df2['newdate'].dt.year.between(2015, 2016), 'newdate']\n",
        "         .dt.isocalendar().week\n",
        "         .value_counts()\n",
        "         .sort_index()\n",
        "         .plot(kind=\"line\")\n",
        ")\n",
        "\n",
        "(df3.loc[df3['newdate'].dt.year.between(2015, 2016), 'newdate']\n",
        "         .dt.isocalendar().week\n",
        "         .value_counts()\n",
        "         .sort_index()\n",
        "         .plot(kind=\"line\")\n",
        ")\n",
        "\n",
        "(df4.loc[df4['newdate'].dt.year.between(2015, 2016), 'newdate']\n",
        "         .dt.isocalendar().week\n",
        "         .value_counts()\n",
        "         .sort_index()\n",
        "         .plot(kind=\"line\")\n",
        "         \n",
        ")"
      ],
      "execution_count": null,
      "outputs": [
        {
          "output_type": "execute_result",
          "data": {
            "text/plain": [
              "<matplotlib.axes._subplots.AxesSubplot at 0x7f38b68e6ed0>"
            ]
          },
          "metadata": {
            "tags": []
          },
          "execution_count": 195
        },
        {
          "output_type": "display_data",
          "data": {
            "image/png": "[encoded data removed]",
            "text/plain": [
              "<Figure size 792x288 with 1 Axes>"
            ]
          },
          "metadata": {
            "tags": []
          }
        }
      ]
    },
    {
      "cell_type": "markdown",
      "metadata": {
        "id": "2i-muwoB6gwH"
      },
      "source": [
        "The above graph shows the frequency of emails over the year of 2015 for each of the 4 Political Parties."
      ]
    },
    {
      "cell_type": "markdown",
      "metadata": {
        "id": "tDCnA-Ig7cTv"
      },
      "source": [
        "# Conclusion\n",
        "\n",
        "In this exercise we were able to create valuable changes to a large dataset, as well as efficiently saving and manipulating the dataset to gain further value. This exercise serves as a tool to show the extensive possibilities of potential value in large sets of unstrctured data over a minimal period of time.\n",
        "\n",
        "Like art, the (machine) learning process is never finished. Some things I would continue to improve would be:\n",
        "- Modularization of the code to make it easier to make changes, fix bugs, and update\n",
        "- Visualization, where a plethora of possibilities answer questions we may never think to ask."
      ]
    },
    {
      "cell_type": "markdown",
      "metadata": {
        "id": "LnbY3-Xb9X-e"
      },
      "source": [
        "Hopefully this notebook has been a net positive experience for you too. Don't hesitate contact me with any questions and suggestions.\n",
        "\n",
        "# ***Stay Curious!***"
      ]
    }
  ]
}